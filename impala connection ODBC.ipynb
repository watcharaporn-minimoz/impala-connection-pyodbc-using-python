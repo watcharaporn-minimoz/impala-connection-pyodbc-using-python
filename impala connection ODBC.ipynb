{
 "cells": [
  {
   "cell_type": "markdown",
   "source": [
    "Use pyodbc with Cloudera Impala ODBC"
   ],
   "metadata": {}
  },
  {
   "cell_type": "code",
   "execution_count": 14,
   "source": [
    "import pandas as pd\n",
    "import pyodbc\n"
   ],
   "outputs": [],
   "metadata": {}
  },
  {
   "cell_type": "code",
   "execution_count": 5,
   "source": [
    "#################### Path Config #################################\n",
    "path_cfg = '/app/pmsuser/programv2/cfg/'\n",
    "file_cfg = 'main.ml'\n",
    "###############################################################\n",
    "import sys\n",
    "import warnings\n",
    "warnings.filterwarnings(\"ignore\", category=DeprecationWarning) \n",
    "import imp\n",
    "imp.load_source(file_cfg, path_cfg+file_cfg+'.cfg')\n",
    "from main.ml import *"
   ],
   "outputs": [],
   "metadata": {}
  },
  {
   "cell_type": "code",
   "execution_count": 6,
   "source": [
    "def as_pandas(cursor):\n",
    "    names = [metadata[0] for metadata in cursor.description]\n",
    "    return pd.DataFrame([dict(zip(names, row)) for row in cursor], columns=names)"
   ],
   "outputs": [],
   "metadata": {}
  },
  {
   "cell_type": "markdown",
   "source": [
    "Configuration settings for the ODBC connection"
   ],
   "metadata": {}
  },
  {
   "cell_type": "code",
   "execution_count": 7,
   "source": [
    "connection_string = '''Driver=/opt/cloudera/impalaodbc/lib/64/libclouderaimpalaodbc64.so;\n",
    "HOST={HOST};\n",
    "PORT={PORT};\n",
    "UID={USER};\n",
    "PWD={PASS};\n",
    "AuthMech=3;\n",
    "SSL=0;\n",
    "Min_TLS=1.2;\n",
    "AllowSelfSignedServerCert=1'''.format(HOST=HOST_IMPALA, PORT=PORT_IMPALAODBC,USER=USER_IMPALA,PASS=PASS_IMPALA)"
   ],
   "outputs": [],
   "metadata": {}
  },
  {
   "cell_type": "markdown",
   "source": [
    "Create connection"
   ],
   "metadata": {}
  },
  {
   "cell_type": "code",
   "execution_count": 8,
   "source": [
    "connection=pyodbc.connect(connection_string, autocommit=True)"
   ],
   "outputs": [],
   "metadata": {}
  },
  {
   "cell_type": "markdown",
   "source": [
    "Get cursor to interact with the SQL engine"
   ],
   "metadata": {}
  },
  {
   "cell_type": "code",
   "execution_count": 9,
   "source": [
    "cursor = connection.cursor()"
   ],
   "outputs": [],
   "metadata": {}
  },
  {
   "cell_type": "markdown",
   "source": [
    "Execute queries like so:"
   ],
   "metadata": {}
  },
  {
   "cell_type": "code",
   "execution_count": 10,
   "source": [
    "query_sql='''SELECT * FROM pms_radio.master_province;'''"
   ],
   "outputs": [],
   "metadata": {}
  },
  {
   "cell_type": "code",
   "execution_count": 11,
   "source": [
    "cursor.execute(query_sql)"
   ],
   "outputs": [
    {
     "output_type": "execute_result",
     "data": {
      "text/plain": [
       "<pyodbc.Cursor at 0x7f5c9a868f30>"
      ]
     },
     "metadata": {},
     "execution_count": 11
    }
   ],
   "metadata": {}
  },
  {
   "cell_type": "markdown",
   "source": [
    "Convert result set into pandas DataFrame"
   ],
   "metadata": {}
  },
  {
   "cell_type": "code",
   "execution_count": 12,
   "source": [
    "df = as_pandas(cursor)\n",
    "df"
   ],
   "outputs": [
    {
     "output_type": "execute_result",
     "data": {
      "text/plain": [
       "   province_id  thai_province      eng_province\n",
       "0            1  กรุงเทพมหานคร           BANGKOK\n",
       "1            2         กระบี่             KRABI\n",
       "2            3      กาญจนบุรี      KANCHANABURI\n",
       "3            4      กาฬสินธุ์           KALASIN\n",
       "4            5      กำแพงเพชร    KAMPHAENG PHET\n",
       "..         ...            ...               ...\n",
       "72          73     อำนาจเจริญ     AMNAT CHAROEN\n",
       "73          74       อุดรธานี        UDON THANI\n",
       "74          75      อุตรดิตถ์         UTTARADIT\n",
       "75          76      อุทัยธานี       UTHAI THANI\n",
       "76          77    อุบลราชธานี  UBON RATCHATHANI\n",
       "\n",
       "[77 rows x 3 columns]"
      ],
      "text/html": [
       "<div>\n",
       "<style scoped>\n",
       "    .dataframe tbody tr th:only-of-type {\n",
       "        vertical-align: middle;\n",
       "    }\n",
       "\n",
       "    .dataframe tbody tr th {\n",
       "        vertical-align: top;\n",
       "    }\n",
       "\n",
       "    .dataframe thead th {\n",
       "        text-align: right;\n",
       "    }\n",
       "</style>\n",
       "<table border=\"1\" class=\"dataframe\">\n",
       "  <thead>\n",
       "    <tr style=\"text-align: right;\">\n",
       "      <th></th>\n",
       "      <th>province_id</th>\n",
       "      <th>thai_province</th>\n",
       "      <th>eng_province</th>\n",
       "    </tr>\n",
       "  </thead>\n",
       "  <tbody>\n",
       "    <tr>\n",
       "      <th>0</th>\n",
       "      <td>1</td>\n",
       "      <td>กรุงเทพมหานคร</td>\n",
       "      <td>BANGKOK</td>\n",
       "    </tr>\n",
       "    <tr>\n",
       "      <th>1</th>\n",
       "      <td>2</td>\n",
       "      <td>กระบี่</td>\n",
       "      <td>KRABI</td>\n",
       "    </tr>\n",
       "    <tr>\n",
       "      <th>2</th>\n",
       "      <td>3</td>\n",
       "      <td>กาญจนบุรี</td>\n",
       "      <td>KANCHANABURI</td>\n",
       "    </tr>\n",
       "    <tr>\n",
       "      <th>3</th>\n",
       "      <td>4</td>\n",
       "      <td>กาฬสินธุ์</td>\n",
       "      <td>KALASIN</td>\n",
       "    </tr>\n",
       "    <tr>\n",
       "      <th>4</th>\n",
       "      <td>5</td>\n",
       "      <td>กำแพงเพชร</td>\n",
       "      <td>KAMPHAENG PHET</td>\n",
       "    </tr>\n",
       "    <tr>\n",
       "      <th>...</th>\n",
       "      <td>...</td>\n",
       "      <td>...</td>\n",
       "      <td>...</td>\n",
       "    </tr>\n",
       "    <tr>\n",
       "      <th>72</th>\n",
       "      <td>73</td>\n",
       "      <td>อำนาจเจริญ</td>\n",
       "      <td>AMNAT CHAROEN</td>\n",
       "    </tr>\n",
       "    <tr>\n",
       "      <th>73</th>\n",
       "      <td>74</td>\n",
       "      <td>อุดรธานี</td>\n",
       "      <td>UDON THANI</td>\n",
       "    </tr>\n",
       "    <tr>\n",
       "      <th>74</th>\n",
       "      <td>75</td>\n",
       "      <td>อุตรดิตถ์</td>\n",
       "      <td>UTTARADIT</td>\n",
       "    </tr>\n",
       "    <tr>\n",
       "      <th>75</th>\n",
       "      <td>76</td>\n",
       "      <td>อุทัยธานี</td>\n",
       "      <td>UTHAI THANI</td>\n",
       "    </tr>\n",
       "    <tr>\n",
       "      <th>76</th>\n",
       "      <td>77</td>\n",
       "      <td>อุบลราชธานี</td>\n",
       "      <td>UBON RATCHATHANI</td>\n",
       "    </tr>\n",
       "  </tbody>\n",
       "</table>\n",
       "<p>77 rows × 3 columns</p>\n",
       "</div>"
      ]
     },
     "metadata": {},
     "execution_count": 12
    }
   ],
   "metadata": {}
  },
  {
   "cell_type": "markdown",
   "source": [
    "Remember to always close your connection once done, otherwise unexpected behavior may result!"
   ],
   "metadata": {}
  },
  {
   "cell_type": "code",
   "execution_count": 13,
   "source": [
    "cursor.close()"
   ],
   "outputs": [],
   "metadata": {}
  }
 ],
 "metadata": {
  "orig_nbformat": 4,
  "kernelspec": {
   "name": "python3",
   "display_name": "Python 3",
   "language": "python"
  }
 },
 "nbformat": 4,
 "nbformat_minor": 2
}